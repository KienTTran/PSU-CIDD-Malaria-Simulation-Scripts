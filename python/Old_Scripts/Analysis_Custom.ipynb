{
 "cells": [
  {
   "cell_type": "code",
   "execution_count": 7,
   "id": "bf7ed898-6223-4248-b7ec-9336f4ebb4d6",
   "metadata": {},
   "outputs": [],
   "source": [
    "import pandas as pd\n",
    "import seaborn as sns"
   ]
  },
  {
   "cell_type": "code",
   "execution_count": 8,
   "id": "5d2729d2-71ec-4b5b-b634-5b19c13f5bd4",
   "metadata": {},
   "outputs": [],
   "source": [
    "data_raw = pd.read_csv(\"monthly_custom_data_0.txt\")"
   ]
  },
  {
   "cell_type": "code",
   "execution_count": 9,
   "id": "539b16aa-aab4-4e5d-9e57-6458bf5d43cf",
   "metadata": {},
   "outputs": [
    {
     "data": {
      "text/html": [
       "<div>\n",
       "<style scoped>\n",
       "    .dataframe tbody tr th:only-of-type {\n",
       "        vertical-align: middle;\n",
       "    }\n",
       "\n",
       "    .dataframe tbody tr th {\n",
       "        vertical-align: top;\n",
       "    }\n",
       "\n",
       "    .dataframe thead th {\n",
       "        text-align: right;\n",
       "    }\n",
       "</style>\n",
       "<table border=\"1\" class=\"dataframe\">\n",
       "  <thead>\n",
       "    <tr style=\"text-align: right;\">\n",
       "      <th></th>\n",
       "      <th>Current</th>\n",
       "      <th>System</th>\n",
       "      <th>Calendar</th>\n",
       "      <th>Pre05</th>\n",
       "      <th>Pre210</th>\n",
       "      <th>Pre1015</th>\n",
       "      <th>Pre1545</th>\n",
       "    </tr>\n",
       "  </thead>\n",
       "  <tbody>\n",
       "    <tr>\n",
       "      <th>0</th>\n",
       "      <td>0</td>\n",
       "      <td>1167609600</td>\n",
       "      <td>2007/01/01</td>\n",
       "      <td>0.049774</td>\n",
       "      <td>0.045902</td>\n",
       "      <td>0.033816</td>\n",
       "      <td>0.049180</td>\n",
       "    </tr>\n",
       "    <tr>\n",
       "      <th>1</th>\n",
       "      <td>31</td>\n",
       "      <td>1170288000</td>\n",
       "      <td>2007/02/01</td>\n",
       "      <td>0.398190</td>\n",
       "      <td>0.429508</td>\n",
       "      <td>0.428571</td>\n",
       "      <td>0.382749</td>\n",
       "    </tr>\n",
       "    <tr>\n",
       "      <th>2</th>\n",
       "      <td>59</td>\n",
       "      <td>1172707200</td>\n",
       "      <td>2007/03/01</td>\n",
       "      <td>0.621005</td>\n",
       "      <td>0.696774</td>\n",
       "      <td>0.717822</td>\n",
       "      <td>0.688830</td>\n",
       "    </tr>\n",
       "    <tr>\n",
       "      <th>3</th>\n",
       "      <td>90</td>\n",
       "      <td>1175385600</td>\n",
       "      <td>2007/04/01</td>\n",
       "      <td>0.710280</td>\n",
       "      <td>0.785256</td>\n",
       "      <td>0.818653</td>\n",
       "      <td>0.856771</td>\n",
       "    </tr>\n",
       "    <tr>\n",
       "      <th>4</th>\n",
       "      <td>120</td>\n",
       "      <td>1177977600</td>\n",
       "      <td>2007/05/01</td>\n",
       "      <td>0.738532</td>\n",
       "      <td>0.821086</td>\n",
       "      <td>0.865591</td>\n",
       "      <td>0.853165</td>\n",
       "    </tr>\n",
       "    <tr>\n",
       "      <th>...</th>\n",
       "      <td>...</td>\n",
       "      <td>...</td>\n",
       "      <td>...</td>\n",
       "      <td>...</td>\n",
       "      <td>...</td>\n",
       "      <td>...</td>\n",
       "      <td>...</td>\n",
       "    </tr>\n",
       "    <tr>\n",
       "      <th>175</th>\n",
       "      <td>5326</td>\n",
       "      <td>1627776000</td>\n",
       "      <td>2021/08/01</td>\n",
       "      <td>0.528090</td>\n",
       "      <td>0.408408</td>\n",
       "      <td>0.245283</td>\n",
       "      <td>0.225373</td>\n",
       "    </tr>\n",
       "    <tr>\n",
       "      <th>176</th>\n",
       "      <td>5357</td>\n",
       "      <td>1630454400</td>\n",
       "      <td>2021/09/01</td>\n",
       "      <td>0.571429</td>\n",
       "      <td>0.420420</td>\n",
       "      <td>0.216049</td>\n",
       "      <td>0.226048</td>\n",
       "    </tr>\n",
       "    <tr>\n",
       "      <th>177</th>\n",
       "      <td>5387</td>\n",
       "      <td>1633046400</td>\n",
       "      <td>2021/10/01</td>\n",
       "      <td>0.573585</td>\n",
       "      <td>0.425595</td>\n",
       "      <td>0.202454</td>\n",
       "      <td>0.194903</td>\n",
       "    </tr>\n",
       "    <tr>\n",
       "      <th>178</th>\n",
       "      <td>5418</td>\n",
       "      <td>1635724800</td>\n",
       "      <td>2021/11/01</td>\n",
       "      <td>0.520599</td>\n",
       "      <td>0.388724</td>\n",
       "      <td>0.213415</td>\n",
       "      <td>0.227410</td>\n",
       "    </tr>\n",
       "    <tr>\n",
       "      <th>179</th>\n",
       "      <td>5448</td>\n",
       "      <td>1638316800</td>\n",
       "      <td>2021/12/01</td>\n",
       "      <td>0.500000</td>\n",
       "      <td>0.359649</td>\n",
       "      <td>0.184049</td>\n",
       "      <td>0.229385</td>\n",
       "    </tr>\n",
       "  </tbody>\n",
       "</table>\n",
       "<p>180 rows × 7 columns</p>\n",
       "</div>"
      ],
      "text/plain": [
       "     Current      System    Calendar     Pre05    Pre210   Pre1015   Pre1545\n",
       "0          0  1167609600  2007/01/01  0.049774  0.045902  0.033816  0.049180\n",
       "1         31  1170288000  2007/02/01  0.398190  0.429508  0.428571  0.382749\n",
       "2         59  1172707200  2007/03/01  0.621005  0.696774  0.717822  0.688830\n",
       "3         90  1175385600  2007/04/01  0.710280  0.785256  0.818653  0.856771\n",
       "4        120  1177977600  2007/05/01  0.738532  0.821086  0.865591  0.853165\n",
       "..       ...         ...         ...       ...       ...       ...       ...\n",
       "175     5326  1627776000  2021/08/01  0.528090  0.408408  0.245283  0.225373\n",
       "176     5357  1630454400  2021/09/01  0.571429  0.420420  0.216049  0.226048\n",
       "177     5387  1633046400  2021/10/01  0.573585  0.425595  0.202454  0.194903\n",
       "178     5418  1635724800  2021/11/01  0.520599  0.388724  0.213415  0.227410\n",
       "179     5448  1638316800  2021/12/01  0.500000  0.359649  0.184049  0.229385\n",
       "\n",
       "[180 rows x 7 columns]"
      ]
     },
     "execution_count": 9,
     "metadata": {},
     "output_type": "execute_result"
    }
   ],
   "source": [
    "data_raw"
   ]
  },
  {
   "cell_type": "code",
   "execution_count": 10,
   "id": "601935c0-eca7-4781-8ace-3ba2dfb2f34f",
   "metadata": {},
   "outputs": [
    {
     "name": "stderr",
     "output_type": "stream",
     "text": [
      "D:\\Anaconda3\\envs\\BoniLab\\lib\\site-packages\\seaborn\\_decorators.py:36: FutureWarning: Pass the following variables as keyword args: x, y. From version 0.12, the only valid positional argument will be `data`, and passing other arguments without an explicit keyword will result in an error or misinterpretation.\n",
      "  warnings.warn(\n"
     ]
    },
    {
     "data": {
      "text/plain": [
       "<AxesSubplot:xlabel='Current', ylabel='Pre05'>"
      ]
     },
     "execution_count": 10,
     "metadata": {},
     "output_type": "execute_result"
    },
    {
     "data": {
      "image/png": "[encoded data removed]",
      "text/plain": [
       "<Figure size 432x288 with 1 Axes>"
      ]
     },
     "metadata": {
      "needs_background": "light"
     },
     "output_type": "display_data"
    }
   ],
   "source": [
    "sns.lineplot(data_raw[\"Current\"],data_raw[\"Pre05\"])"
   ]
  },
  {
   "cell_type": "code",
   "execution_count": 12,
   "id": "dba7ee3a-0d96-4693-b1c8-f9e3e94bb355",
   "metadata": {},
   "outputs": [
    {
     "name": "stderr",
     "output_type": "stream",
     "text": [
      "D:\\Anaconda3\\envs\\BoniLab\\lib\\site-packages\\seaborn\\_decorators.py:36: FutureWarning: Pass the following variables as keyword args: x, y. From version 0.12, the only valid positional argument will be `data`, and passing other arguments without an explicit keyword will result in an error or misinterpretation.\n",
      "  warnings.warn(\n"
     ]
    },
    {
     "data": {
      "text/plain": [
       "<AxesSubplot:xlabel='Current', ylabel='Pre210'>"
      ]
     },
     "execution_count": 12,
     "metadata": {},
     "output_type": "execute_result"
    },
    {
     "data": {
      "image/png": "[encoded data removed]",
      "text/plain": [
       "<Figure size 432x288 with 1 Axes>"
      ]
     },
     "metadata": {
      "needs_background": "light"
     },
     "output_type": "display_data"
    }
   ],
   "source": [
    "sns.lineplot(data_raw[\"Current\"],data_raw[\"Pre210\"])"
   ]
  },
  {
   "cell_type": "code",
   "execution_count": null,
   "id": "3a38136d-8017-42db-97ea-2350888e9b19",
   "metadata": {},
   "outputs": [],
   "source": []
  }
 ],
 "metadata": {
  "kernelspec": {
   "display_name": "Python 3",
   "language": "python",
   "name": "python3"
  },
  "language_info": {
   "codemirror_mode": {
    "name": "ipython",
    "version": 3
   },
   "file_extension": ".py",
   "mimetype": "text/x-python",
   "name": "python",
   "nbconvert_exporter": "python",
   "pygments_lexer": "ipython3",
   "version": "3.8.10"
  }
 },
 "nbformat": 4,
 "nbformat_minor": 5
}
